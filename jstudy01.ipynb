{
 "cells": [
  {
   "cell_type": "code",
   "execution_count": 1,
   "metadata": {},
   "outputs": [
    {
     "name": "stdout",
     "output_type": "stream",
     "text": [
      "ID를 입력하세요: 21312\n",
      "PW를 입력하세요: 23\n",
      "등록되지 않은 사용자입니다.\n"
     ]
    }
   ],
   "source": [
    "#출력 : '환영합니다, 관리자님!' 또는 '등록되지 않은 사용자입니다.'\n",
    "#입력 : ID와 PW\n",
    "ID = input('ID를 입력하세요: ')\n",
    "PW = input('PW를 입력하세요: ')\n",
    "if ID == 'admin' and PW == '1234' :\n",
    "    print('환영합니다, 관리자님!')\n",
    "else:\n",
    "    print('등록되지 않은 사용자입니다.')\n",
    "    "
   ]
  },
  {
   "cell_type": "code",
   "execution_count": 5,
   "metadata": {},
   "outputs": [
    {
     "name": "stdout",
     "output_type": "stream",
     "text": [
      "시리얼 넘버를 입력하세요: 8504037\n",
      "정상\n"
     ]
    }
   ],
   "source": [
    "#시리얼을 대조하는 간단한 토이\n",
    "#시리얼이 맞을 경우 '정상' 맞지 않을 경우 '비정상'이라고 출력되어야 한다.\n",
    "serial_numbers = input(\"시리얼 넘버를 입력하세요: \")\n",
    "if serial_numbers == '1111555'or serial_numbers == '2223322' or serial_numbers == '2521249' or serial_numbers == '8504037' :\n",
    "    print('정상')\n",
    "else:\n",
    "    print('비정상')\n",
    "    "
   ]
  },
  {
   "cell_type": "code",
   "execution_count": 10,
   "metadata": {},
   "outputs": [
    {
     "name": "stdout",
     "output_type": "stream",
     "text": [
      "시험 점수를 입력하세요 : 1\n",
      "낙제\n"
     ]
    }
   ],
   "source": [
    "#출력 : 학점 (영문 형태의 등급)\n",
    "#입력 : 0이상 100이하의 시험점수\n",
    "score = int(input('시험 점수를 입력하세요 : '))\n",
    "if score >= 98:\n",
    "    print('A')\n",
    "elif score >= 95:\n",
    "    print('B')\n",
    "elif score >= 90:\n",
    "    print('C')\n",
    "elif score < 90:\n",
    "    print('낙제')\n",
    "    "
   ]
  },
  {
   "cell_type": "code",
   "execution_count": 12,
   "metadata": {},
   "outputs": [
    {
     "name": "stdout",
     "output_type": "stream",
     "text": [
      "조회수를 입력하세요10\n",
      "No League\n"
     ]
    }
   ],
   "source": [
    "#조회수 100만 이상 Violet\n",
    "#조회수 10만 이상 Blue\n",
    "#조회수 1만 이상 Black\n",
    "\n",
    "page_view = int(input('조회수를 입력하세요'))\n",
    "if page_view >= 1000000 :\n",
    "    print('Violet League')\n",
    "elif page_view >= 100000 :\n",
    "    print('Blue League')\n",
    "elif page_view >= 10000 :\n",
    "    print('Black League')\n",
    "elif page_view < 10000 :\n",
    "    print('No League')"
   ]
  },
  {
   "cell_type": "code",
   "execution_count": 13,
   "metadata": {},
   "outputs": [
    {
     "name": "stdout",
     "output_type": "stream",
     "text": [
      "당신의 성적을 입력하세요. : 55\n",
      "F\n"
     ]
    }
   ],
   "source": [
    "# 98점 이상이면 A\n",
    "# 95점 이상이면 B\n",
    "# 90점 이상이면 C\n",
    "# 그 외 나머지는 F\n",
    "\n",
    "score = int(input('당신의 성적을 입력하세요. : '))\n",
    "if score >= 98 :\n",
    "    print('A')\n",
    "elif score >= 95 :\n",
    "    print('B')\n",
    "elif score >= 90 :\n",
    "    print('C')\n",
    "else:\n",
    "    print('F')"
   ]
  },
  {
   "cell_type": "code",
   "execution_count": 14,
   "metadata": {},
   "outputs": [
    {
     "name": "stdout",
     "output_type": "stream",
     "text": [
      "조회수를 입력하세요 : 10\n",
      "Red League\n"
     ]
    }
   ],
   "source": [
    "#조회수 100만 이상 Violet\n",
    "#조회수 10만 이상 Blue\n",
    "#조회수 1만 이상 Black\n",
    "#조회수 0 이상 Red\n",
    "\n",
    "page_view = int(input('조회수를 입력하세요 : '))\n",
    "if page_view >= 1000000 :\n",
    "    print('Violet League')\n",
    "elif page_view >= 100000 :\n",
    "    print('Blue League')\n",
    "elif page_view >= 10000 :\n",
    "    print('Black League')\n",
    "else:\n",
    "    print('Red League')\n",
    "    "
   ]
  },
  {
   "cell_type": "code",
   "execution_count": 17,
   "metadata": {},
   "outputs": [
    {
     "name": "stdout",
     "output_type": "stream",
     "text": [
      "1\n",
      "2\n",
      "3\n",
      "4\n",
      "5\n",
      "6\n",
      "7\n",
      "8\n",
      "9\n"
     ]
    }
   ],
   "source": [
    "# 순회 가능 변수에 대한 설명이며 이는 문자열str은 가능하지만 정수열int는 불가능하다.\n",
    "# 순회 가능한 문자열은 ste, list, tuple, set, dict 등이 있다.\n",
    "# 반복문에서 변수를 i를 많이 쓰는 이유는 iterate의 약자라서 그렇다.. 반복하다.\n",
    "for i in '123456789' :\n",
    "    print(i)"
   ]
  },
  {
   "cell_type": "code",
   "execution_count": 18,
   "metadata": {},
   "outputs": [
    {
     "name": "stdout",
     "output_type": "stream",
     "text": [
      "1\n",
      "2\n",
      "3\n"
     ]
    }
   ],
   "source": [
    "for 반복변수 in [1, 2, 3] :\n",
    "    print(반복변수)"
   ]
  },
  {
   "cell_type": "code",
   "execution_count": 19,
   "metadata": {},
   "outputs": [
    {
     "name": "stdout",
     "output_type": "stream",
     "text": [
      "[0, 1, 2, 3, 4, 5, 6, 7, 8, 9]\n"
     ]
    }
   ],
   "source": [
    "a = range(10)\n",
    "a = list(a)\n",
    "print(a)\n"
   ]
  },
  {
   "cell_type": "code",
   "execution_count": 20,
   "metadata": {},
   "outputs": [
    {
     "name": "stdout",
     "output_type": "stream",
     "text": [
      "1번째 손님 :  갑을병\n",
      "2번째 손님 :  정무기\n",
      "3번째 손님 :  경신임\n",
      "4번째 손님 :  계자축\n"
     ]
    }
   ],
   "source": [
    "people = ['갑을병', '정무기', '경신임', '계자축']\n",
    "for i in range(4):\n",
    "    print(str(i+1)+'번째 손님 : ', people[i])\n",
    "    "
   ]
  },
  {
   "cell_type": "code",
   "execution_count": 21,
   "metadata": {},
   "outputs": [
    {
     "name": "stdout",
     "output_type": "stream",
     "text": [
      "3\n",
      "2\n",
      "1\n"
     ]
    }
   ],
   "source": [
    "i = 3\n",
    "while i:\n",
    "    print(i)\n",
    "    i = i -1"
   ]
  },
  {
   "cell_type": "code",
   "execution_count": 32,
   "metadata": {},
   "outputs": [
    {
     "name": "stdout",
     "output_type": "stream",
     "text": [
      "계산할 단을 입력하세요 : 10\n",
      "10 x 1 = 10\n",
      "10 x 2 = 20\n",
      "10 x 3 = 30\n",
      "10 x 4 = 40\n",
      "10 x 5 = 50\n",
      "10 x 6 = 60\n",
      "10 x 7 = 70\n",
      "10 x 8 = 80\n",
      "10 x 9 = 90\n"
     ]
    }
   ],
   "source": [
    "# 구구단 만들기 프로그램\n",
    "# 단을 입력하면 해당 단을 계산해서 print하는 구조로 만든다.\n",
    "# range는 시작점 이상, 끝점 미만 순서라 1,10으로 할 경우 1~9까지 입력 가능\n",
    "# for로 만들 경우\n",
    "\n",
    "n = int(input('계산할 단을 입력하세요 : '))\n",
    "for i in range(1, 10) :\n",
    "    print(n, 'x', i, '=', n*i)\n",
    "\n",
    "        "
   ]
  },
  {
   "cell_type": "code",
   "execution_count": 33,
   "metadata": {},
   "outputs": [
    {
     "name": "stdout",
     "output_type": "stream",
     "text": [
      "계산할 단을 입력하세요 : 9\n",
      "9 x 1 = 9\n",
      "9 x 2 = 18\n",
      "9 x 3 = 27\n",
      "9 x 4 = 36\n",
      "9 x 5 = 45\n",
      "9 x 6 = 54\n",
      "9 x 7 = 63\n",
      "9 x 8 = 72\n",
      "9 x 9 = 81\n"
     ]
    }
   ],
   "source": [
    "# 구구단 만들기 프로그램\n",
    "# 이번에는 for가 아니라 while을 쓰는 방법으로 해야한다.\n",
    "\n",
    "n = int(input('계산할 단을 입력하세요 : '))\n",
    "i = 1\n",
    "while i < 10:\n",
    "    print(n, 'x', i, '=', n*i)\n",
    "    i = i+1"
   ]
  },
  {
   "cell_type": "code",
   "execution_count": 41,
   "metadata": {},
   "outputs": [
    {
     "name": "stdout",
     "output_type": "stream",
     "text": [
      "카운트다운 숫자를 넣으세요 : 5\n",
      "5\n",
      "4\n",
      "3\n",
      "2\n",
      "1\n",
      "0\n"
     ]
    }
   ],
   "source": [
    "# 카운트 다운 프로그램을 만들어\n",
    "# 입력한 숫자부터 카운트다운하여 0까지 되어야 한다.\n",
    "\n",
    "n = int(input('카운트다운 숫자를 넣으세요 : '))\n",
    "for i in range(n, -1, -1):\n",
    "    print(i)"
   ]
  },
  {
   "cell_type": "code",
   "execution_count": 40,
   "metadata": {},
   "outputs": [
    {
     "name": "stdout",
     "output_type": "stream",
     "text": [
      "카운트다운 숫자를 넣으세요 : 5\n",
      "5\n",
      "4\n",
      "3\n",
      "2\n",
      "1\n",
      "0\n"
     ]
    }
   ],
   "source": [
    "# 카운트 다운 프로그램을 만들어 보자.\n",
    "# 이번에는 while을 한 번 써보자\n",
    "# while을 쓸 때엔 한계점? 걸리는 지점? 리밋지점?을 기준으로 생각하는게 더 빠른거 같다.\n",
    "\n",
    "n = int(input('카운트다운 숫자를 넣으세요 : '))\n",
    "i = n\n",
    "while i >= 0:\n",
    "    print(i)\n",
    "    i = i-1"
   ]
  },
  {
   "cell_type": "code",
   "execution_count": 44,
   "metadata": {},
   "outputs": [
    {
     "name": "stdout",
     "output_type": "stream",
     "text": [
      "몇 개? : 5\n",
      "숫자1:9\n",
      "숫자2:8\n",
      "숫자3:7\n",
      "숫자4:6\n",
      "숫자5:5\n",
      "5\n",
      "6\n",
      "7\n",
      "8\n",
      "9\n"
     ]
    }
   ],
   "source": [
    "#출력 : 숫자, 입력받은 것과 역순으로\n",
    "#입력 : 숫자의 개수와 여러 가지 숫자\n",
    "\n",
    "n = int(input('몇 개? : '))\n",
    "numbers = []\n",
    "for i in range(1, n+1):\n",
    "    x = input('숫자' +str(i)+':')\n",
    "    numbers = numbers + [x]\n",
    "# 지금 상황에서 i의 값은 5인 상태\n",
    "for i in range(n-1, -1, -1):\n",
    "# 5부터 까고 내려가서 4,3,2,1,0이 되는건데 이 순서가 리스트[]의 역순 출력인 상황\n",
    "    print(numbers[i])"
   ]
  },
  {
   "cell_type": "code",
   "execution_count": 45,
   "metadata": {},
   "outputs": [
    {
     "name": "stdout",
     "output_type": "stream",
     "text": [
      "몇 개? : 5\n",
      "숫자1:9\n",
      "숫자2:8\n",
      "숫자3:7\n",
      "숫자4:6\n",
      "숫자5:5\n",
      "5\n",
      "6\n",
      "7\n",
      "8\n",
      "9\n"
     ]
    }
   ],
   "source": [
    "#위의 역산을 while로 전환한게 아래의 내용\n",
    "n = int(input('몇 개? : '))\n",
    "numbers = []\n",
    "i = 1\n",
    "while i <= n:\n",
    "    x = input('숫자'+str(i)+':')\n",
    "    numbers = numbers + [x]\n",
    "    i = i+1\n",
    "i = n-1\n",
    "while i >= 0:\n",
    "    print(numbers[i])\n",
    "    i = i-1\n",
    "    "
   ]
  },
  {
   "cell_type": "code",
   "execution_count": 46,
   "metadata": {},
   "outputs": [
    {
     "name": "stdout",
     "output_type": "stream",
     "text": [
      "인원 수를 넣으세요 : 5\n",
      "인원1:1\n",
      "인원2:2\n",
      "인원3:3\n",
      "인원4:4\n",
      "인원5:5\n",
      "평균 :  3.0\n"
     ]
    }
   ],
   "source": [
    "# 입력된 숫자와 해당 값으로 평균을 출력하는 프로그램을 만들어라\n",
    "\n",
    "n = int(input('인원 수를 넣으세요 : '))\n",
    "age_sum = 0\n",
    "for i in range(1, n+1):\n",
    "    age = int(input('인원'+str(i)+':'))\n",
    "    age_sum = age_sum + age\n",
    "print(\"평균 : \", age_sum/n)\n",
    "\n",
    "    "
   ]
  },
  {
   "cell_type": "code",
   "execution_count": 47,
   "metadata": {},
   "outputs": [
    {
     "name": "stdout",
     "output_type": "stream",
     "text": [
      "인원 수를 넣으세요 : 5\n",
      "인원1:1\n",
      "인원2:2\n",
      "인원3:3\n",
      "인원4:4\n",
      "인원5:5\n",
      "평균 :  3.0\n"
     ]
    }
   ],
   "source": [
    "n = int(input('인원 수를 넣으세요 : '))\n",
    "age_sum = 0\n",
    "i = 1\n",
    "while i <= n :\n",
    "    age = int(input('인원'+str(i)+':'))\n",
    "    age_sum = age_sum + age\n",
    "    i = i + 1\n",
    "print(\"평균 : \", age_sum/n)\n"
   ]
  },
  {
   "cell_type": "code",
   "execution_count": 50,
   "metadata": {},
   "outputs": [
    {
     "name": "stdout",
     "output_type": "stream",
     "text": [
      "이번 달 수익(종료하려면 x를 입력): 150\n",
      "현재 자산 :  150\n",
      "이번 달 수익(종료하려면 x를 입력): 200\n",
      "현재 자산 :  350\n",
      "이번 달 수익(종료하려면 x를 입력): 400\n",
      "현재 자산 :  750\n",
      "이번 달 수익(종료하려면 x를 입력): -100\n",
      "현재 자산 :  650\n",
      "이번 달 수익(종료하려면 x를 입력): -500\n",
      "현재 자산 :  150\n",
      "이번 달 수익(종료하려면 x를 입력): -500\n",
      "현재 자산 :  -350\n",
      "이번 달 수익(종료하려면 x를 입력): ㅌ\n"
     ]
    },
    {
     "ename": "ValueError",
     "evalue": "invalid literal for int() with base 10: 'ㅌ'",
     "output_type": "error",
     "traceback": [
      "\u001b[1;31m---------------------------------------------------------------------------\u001b[0m",
      "\u001b[1;31mValueError\u001b[0m                                Traceback (most recent call last)",
      "\u001b[1;32m<ipython-input-50-d61633dc93e9>\u001b[0m in \u001b[0;36m<module>\u001b[1;34m\u001b[0m\n\u001b[0;32m      4\u001b[0m     \u001b[1;32mif\u001b[0m \u001b[0mincome\u001b[0m \u001b[1;33m==\u001b[0m \u001b[1;34m'x'\u001b[0m\u001b[1;33m:\u001b[0m\u001b[1;33m\u001b[0m\u001b[1;33m\u001b[0m\u001b[0m\n\u001b[0;32m      5\u001b[0m         \u001b[1;32mbreak\u001b[0m\u001b[1;33m\u001b[0m\u001b[1;33m\u001b[0m\u001b[0m\n\u001b[1;32m----> 6\u001b[1;33m     \u001b[0masset\u001b[0m \u001b[1;33m=\u001b[0m \u001b[0masset\u001b[0m \u001b[1;33m+\u001b[0m \u001b[0mint\u001b[0m\u001b[1;33m(\u001b[0m\u001b[0mincome\u001b[0m\u001b[1;33m)\u001b[0m\u001b[1;33m\u001b[0m\u001b[1;33m\u001b[0m\u001b[0m\n\u001b[0m\u001b[0;32m      7\u001b[0m     \u001b[0mprint\u001b[0m\u001b[1;33m(\u001b[0m\u001b[1;34m'현재 자산 : '\u001b[0m\u001b[1;33m,\u001b[0m \u001b[0masset\u001b[0m\u001b[1;33m)\u001b[0m\u001b[1;33m\u001b[0m\u001b[1;33m\u001b[0m\u001b[0m\n\u001b[0;32m      8\u001b[0m \u001b[1;33m\u001b[0m\u001b[0m\n",
      "\u001b[1;31mValueError\u001b[0m: invalid literal for int() with base 10: 'ㅌ'"
     ]
    }
   ],
   "source": [
    "asset = 0\n",
    "while 1:\n",
    "    income = input('이번 달 수익(종료하려면 x를 입력): ')    #income : 소득\n",
    "    if income == 'x':\n",
    "        break\n",
    "    asset = asset + int(income)\n",
    "    print('현재 자산 : ', asset)\n",
    "    "
   ]
  },
  {
   "cell_type": "code",
   "execution_count": 51,
   "metadata": {},
   "outputs": [
    {
     "name": "stdout",
     "output_type": "stream",
     "text": [
      "이번 달 수익(종료하려면 x를 입력): 500\n",
      "현재 자산 : 500\n",
      "이번 달 수익(종료하려면 x를 입력): 900\n",
      "현재 자산 : 1400\n",
      "이번 달 수익(종료하려면 x를 입력): -1000\n",
      "이번 달 수익(종료하려면 x를 입력): -900\n",
      "이번 달 수익(종료하려면 x를 입력): 100\n",
      "현재 자산 : 1500\n",
      "이번 달 수익(종료하려면 x를 입력): x\n"
     ]
    }
   ],
   "source": [
    "asset = 0\n",
    "while 1:\n",
    "    income = input('이번 달 수익(종료하려면 x를 입력): ')\n",
    "    if income == 'x':\n",
    "        break\n",
    "    if int(income) < 0: # 음수를 넣었을 때, 무시하고 다시 진행하는 내용\n",
    "        continue\n",
    "    asset = asset + int(income)\n",
    "    print('현재 자산 :', asset)\n",
    "    "
   ]
  },
  {
   "cell_type": "code",
   "execution_count": 52,
   "metadata": {},
   "outputs": [
    {
     "name": "stdout",
     "output_type": "stream",
     "text": [
      "1\n",
      "3\n",
      "5\n",
      "7\n",
      "9\n",
      "11\n",
      "13\n",
      "15\n",
      "17\n",
      "19\n",
      "21\n",
      "23\n",
      "25\n",
      "27\n",
      "29\n",
      "31\n",
      "33\n",
      "35\n",
      "37\n",
      "39\n",
      "41\n",
      "43\n",
      "45\n",
      "47\n",
      "49\n"
     ]
    }
   ],
   "source": [
    "for i in range(100):\n",
    "    if i == 50:                   # 범위는 99까지지만 50일 때, break가 걸린다.\n",
    "        break\n",
    "    if i % 2 == 0:\n",
    "        continue                  # i가 짝수라면, 여기서 다시 for가 있는 곳으로 올라간다.\n",
    "    print(i)                      #따라서 이 print는 i가 짝수라면 수행되지 못한다."
   ]
  },
  {
   "cell_type": "code",
   "execution_count": 58,
   "metadata": {},
   "outputs": [
    {
     "name": "stdout",
     "output_type": "stream",
     "text": [
      "1 x 1 = 1\n",
      "1 x 2 = 2\n",
      "1 x 3 = 3\n",
      "1 x 4 = 4\n",
      "1 x 5 = 5\n",
      "1 x 6 = 6\n",
      "1 x 7 = 7\n",
      "1 x 8 = 8\n",
      "1 x 9 = 9\n",
      "2 x 1 = 2\n",
      "2 x 2 = 4\n",
      "2 x 3 = 6\n",
      "2 x 4 = 8\n",
      "2 x 5 = 10\n",
      "2 x 6 = 12\n",
      "2 x 7 = 14\n",
      "2 x 8 = 16\n",
      "2 x 9 = 18\n",
      "3 x 1 = 3\n",
      "3 x 2 = 6\n",
      "3 x 3 = 9\n",
      "3 x 4 = 12\n",
      "3 x 5 = 15\n",
      "3 x 6 = 18\n",
      "3 x 7 = 21\n",
      "3 x 8 = 24\n",
      "3 x 9 = 27\n",
      "4 x 1 = 4\n",
      "4 x 2 = 8\n",
      "4 x 3 = 12\n",
      "4 x 4 = 16\n",
      "4 x 5 = 20\n",
      "4 x 6 = 24\n",
      "4 x 7 = 28\n",
      "4 x 8 = 32\n",
      "4 x 9 = 36\n",
      "5 x 1 = 5\n",
      "5 x 2 = 10\n",
      "5 x 3 = 15\n",
      "5 x 4 = 20\n",
      "5 x 5 = 25\n",
      "5 x 6 = 30\n",
      "5 x 7 = 35\n",
      "5 x 8 = 40\n",
      "5 x 9 = 45\n",
      "6 x 1 = 6\n",
      "6 x 2 = 12\n",
      "6 x 3 = 18\n",
      "6 x 4 = 24\n",
      "6 x 5 = 30\n",
      "6 x 6 = 36\n",
      "6 x 7 = 42\n",
      "6 x 8 = 48\n",
      "6 x 9 = 54\n",
      "7 x 1 = 7\n",
      "7 x 2 = 14\n",
      "7 x 3 = 21\n",
      "7 x 4 = 28\n",
      "7 x 5 = 35\n",
      "7 x 6 = 42\n",
      "7 x 7 = 49\n",
      "7 x 8 = 56\n",
      "7 x 9 = 63\n",
      "8 x 1 = 8\n",
      "8 x 2 = 16\n",
      "8 x 3 = 24\n",
      "8 x 4 = 32\n",
      "8 x 5 = 40\n",
      "8 x 6 = 48\n",
      "8 x 7 = 56\n",
      "8 x 8 = 64\n",
      "8 x 9 = 72\n",
      "9 x 1 = 9\n",
      "9 x 2 = 18\n",
      "9 x 3 = 27\n",
      "9 x 4 = 36\n",
      "9 x 5 = 45\n",
      "9 x 6 = 54\n",
      "9 x 7 = 63\n",
      "9 x 8 = 72\n",
      "9 x 9 = 81\n"
     ]
    }
   ],
   "source": [
    "# 구구단의 기본으로 중첩 반복문의 기본\n",
    "for i in range(1, 10):\n",
    "    for j in range(1, 10):\n",
    "        print(i, 'x', j, '=', i*j)\n",
    "        "
   ]
  },
  {
   "cell_type": "code",
   "execution_count": 59,
   "metadata": {},
   "outputs": [
    {
     "name": "stdout",
     "output_type": "stream",
     "text": [
      "야\n",
      "야\n",
      "왜\n",
      "왜\n",
      "따라하지마!\n",
      "따라하지마!\n",
      "뗵\n",
      "뗵\n",
      "떽\n",
      "메롱~\n"
     ]
    }
   ],
   "source": [
    "# 출력 = 입력\n",
    "# 종료 조건 = 뗵\n",
    "while True:\n",
    "    sentence = input()  # sentence : 문장\n",
    "    if sentence == '떽':\n",
    "        print('메롱~')\n",
    "        break\n",
    "    print(sentence)\n"
   ]
  },
  {
   "cell_type": "code",
   "execution_count": null,
   "metadata": {},
   "outputs": [],
   "source": [
    "# 입력된 문장의 인덱스의 -1로 뒤 쪽부터 접근하는 방법은 이해했음\n",
    "# 이걸 기억하지 못해서 발생한 것이긴한데\n",
    "\n",
    "while True : \n",
    "    sentence = input() # 문장 입력\n",
    "    if sentence[-1] == '.' or sentence[-1] == '!' or sentence[-1] == '?': # 입력된 문장의 마지막이 특수 문자일 경우\n",
    "        if sentence[-2] == '요':                                          # 특수 문자 앞의 문자가 요로 끝나는지 확인\n",
    "            print('히-히히히!')\n",
    "            break\n",
    "        else :\n",
    "            print(sentence[-2]+'?')                                       # 특수 문자 앞 -2의 내용에 ?를 더하는 내용\n",
    "    else:\n",
    "        if sentence[-1] == '요':\n",
    "            print('히-히히히!')\n",
    "            break\n",
    "        else:\n",
    "            print(sentence[-1]+'?')\n",
    "            "
   ]
  },
  {
   "cell_type": "code",
   "execution_count": null,
   "metadata": {},
   "outputs": [],
   "source": [
    "# 출력 : 없음\n",
    "# 입력 : 주소\n",
    "\n",
    "not_mine = ['용인시', '둔산동', '번동', '장안구', '온천동', '구로구', '군포시']\n",
    "address_list = []\n",
    "\n",
    "while True :\n",
    "    address = input('주소 : ')\n",
    "    check = False\n",
    "    for i in not_mine:                     #not_mine 리스트에 있는것들 중 하나라도\n",
    "        if i in address:                   #입력받은 값에 포함되어 있으면\n",
    "            check = True                   #check 변수를 False에서 True로 바꾼다.\n",
    "    if check :\n",
    "        continue\n",
    "    address_list += [address]\n",
    "    \n",
    "    #이건 동작하는 내용이 아니다.\n",
    "    "
   ]
  },
  {
   "cell_type": "code",
   "execution_count": 2,
   "metadata": {},
   "outputs": [
    {
     "name": "stdout",
     "output_type": "stream",
     "text": [
      "7\n",
      "35\n",
      "49\n",
      "77\n",
      "91\n"
     ]
    }
   ],
   "source": [
    "for i in range(1, 100):\n",
    "    if i % 2 == 0 or i % 3 == 0 or i % 7 != 0: # 2의 배수, 3의 배수이면서 7의 배수가 아닌 것\n",
    "        continue                               # 14는 2의 배수가 되고 21은 3의 배수가 된다. 문제 자체가 2나 3의 배수도 아니어야함\n",
    "    else:\n",
    "        print(i)\n",
    "\n"
   ]
  },
  {
   "cell_type": "code",
   "execution_count": 4,
   "metadata": {},
   "outputs": [
    {
     "name": "stdout",
     "output_type": "stream",
     "text": [
      "7\n",
      "14\n",
      "21\n",
      "28\n",
      "35\n",
      "42\n",
      "49\n",
      "56\n",
      "63\n",
      "70\n",
      "77\n",
      "84\n",
      "91\n",
      "98\n"
     ]
    }
   ],
   "source": [
    "for i in range(1, 100): \n",
    "    if i % 7 != 0: # 2의배수, 3의배수도 되면서 7의 배수도 되는 것을 하면 이런식이 된다.\n",
    "        continue\n",
    "    else:\n",
    "        print(i)\n"
   ]
  },
  {
   "cell_type": "code",
   "execution_count": 5,
   "metadata": {},
   "outputs": [
    {
     "name": "stdout",
     "output_type": "stream",
     "text": [
      "몇 단? : 5\n",
      "5 x 1 = 5\n",
      "5 x 2 = 10\n",
      "5 x 3 = 15\n",
      "5 x 4 = 20\n",
      "5 x 5 = 25\n",
      "5 x 6 = 30\n",
      "5 x 7 = 35\n",
      "5 x 8 = 40\n",
      "5 x 9 = 45\n",
      "몇 단? : x\n"
     ]
    }
   ],
   "source": [
    "# 출력 : 구구단 중 한 단\n",
    "# 입력 단 수 (반복)\n",
    "\n",
    "while True : \n",
    "    n = input('몇 단? : ')\n",
    "    if n == 'x' :\n",
    "        break\n",
    "    else : \n",
    "        n = int(n)\n",
    "        for i in range(1, 10):\n",
    "            print(n, 'x', i, '=', n*i)\n",
    "            "
   ]
  },
  {
   "cell_type": "code",
   "execution_count": 6,
   "metadata": {},
   "outputs": [
    {
     "name": "stdout",
     "output_type": "stream",
     "text": [
      "첫 번째 단? : x\n",
      "두 번째 단? : x\n"
     ]
    }
   ],
   "source": [
    "# 출력 : 구구구단을 만들자.\n",
    "# 입력은 결국 단수이고 1 ~ 10이다.\n",
    "\n",
    "while True : \n",
    "    n = input('첫 번째 단? : ')\n",
    "    m = input('두 번째 단? : ')\n",
    "    if n == 'x' or m == 'x':\n",
    "        break\n",
    "    else :\n",
    "        n = int(n)\n",
    "        m = int(m)\n",
    "        for i in range(1, 10):\n",
    "            print(n, 'x', m, 'x', i, '=', n*m*i)\n",
    "            "
   ]
  },
  {
   "cell_type": "code",
   "execution_count": 2,
   "metadata": {},
   "outputs": [
    {
     "name": "stdout",
     "output_type": "stream",
     "text": [
      "7\n",
      "35\n",
      "49\n",
      "77\n",
      "91\n"
     ]
    }
   ],
   "source": [
    "for i in range(1, 100):\n",
    "    if i % 2 != 0 and i % 3 !=0 and i % 7 == 0:\n",
    "        print(i)\n"
   ]
  },
  {
   "cell_type": "code",
   "execution_count": 1,
   "metadata": {},
   "outputs": [
    {
     "name": "stdout",
     "output_type": "stream",
     "text": [
      "1 x 1 x 1 = 1\n",
      "1 x 1 x 2 = 2\n",
      "1 x 1 x 3 = 3\n",
      "1 x 1 x 4 = 4\n",
      "1 x 1 x 5 = 5\n",
      "1 x 1 x 6 = 6\n",
      "1 x 1 x 7 = 7\n",
      "1 x 1 x 8 = 8\n",
      "1 x 1 x 9 = 9\n",
      "1 x 2 x 1 = 2\n",
      "1 x 2 x 2 = 4\n",
      "1 x 2 x 3 = 6\n",
      "1 x 2 x 4 = 8\n",
      "1 x 2 x 5 = 10\n",
      "1 x 2 x 6 = 12\n",
      "1 x 2 x 7 = 14\n",
      "1 x 2 x 8 = 16\n",
      "1 x 2 x 9 = 18\n",
      "1 x 3 x 1 = 3\n",
      "1 x 3 x 2 = 6\n",
      "1 x 3 x 3 = 9\n",
      "1 x 3 x 4 = 12\n",
      "1 x 3 x 5 = 15\n",
      "1 x 3 x 6 = 18\n",
      "1 x 3 x 7 = 21\n",
      "1 x 3 x 8 = 24\n",
      "1 x 3 x 9 = 27\n",
      "1 x 4 x 1 = 4\n",
      "1 x 4 x 2 = 8\n",
      "1 x 4 x 3 = 12\n",
      "1 x 4 x 4 = 16\n",
      "1 x 4 x 5 = 20\n",
      "1 x 4 x 6 = 24\n",
      "1 x 4 x 7 = 28\n",
      "1 x 4 x 8 = 32\n",
      "1 x 4 x 9 = 36\n",
      "1 x 5 x 1 = 5\n",
      "1 x 5 x 2 = 10\n",
      "1 x 5 x 3 = 15\n",
      "1 x 5 x 4 = 20\n",
      "1 x 5 x 5 = 25\n",
      "1 x 5 x 6 = 30\n",
      "1 x 5 x 7 = 35\n",
      "1 x 5 x 8 = 40\n",
      "1 x 5 x 9 = 45\n",
      "1 x 6 x 1 = 6\n",
      "1 x 6 x 2 = 12\n",
      "1 x 6 x 3 = 18\n",
      "1 x 6 x 4 = 24\n",
      "1 x 6 x 5 = 30\n",
      "1 x 6 x 6 = 36\n",
      "1 x 6 x 7 = 42\n",
      "1 x 6 x 8 = 48\n",
      "1 x 6 x 9 = 54\n",
      "1 x 7 x 1 = 7\n",
      "1 x 7 x 2 = 14\n",
      "1 x 7 x 3 = 21\n",
      "1 x 7 x 4 = 28\n",
      "1 x 7 x 5 = 35\n",
      "1 x 7 x 6 = 42\n",
      "1 x 7 x 7 = 49\n",
      "1 x 7 x 8 = 56\n",
      "1 x 7 x 9 = 63\n",
      "1 x 8 x 1 = 8\n",
      "1 x 8 x 2 = 16\n",
      "1 x 8 x 3 = 24\n",
      "1 x 8 x 4 = 32\n",
      "1 x 8 x 5 = 40\n",
      "1 x 8 x 6 = 48\n",
      "1 x 8 x 7 = 56\n",
      "1 x 8 x 8 = 64\n",
      "1 x 8 x 9 = 72\n",
      "1 x 9 x 1 = 9\n",
      "1 x 9 x 2 = 18\n",
      "1 x 9 x 3 = 27\n",
      "1 x 9 x 4 = 36\n",
      "1 x 9 x 5 = 45\n",
      "1 x 9 x 6 = 54\n",
      "1 x 9 x 7 = 63\n",
      "1 x 9 x 8 = 72\n",
      "1 x 9 x 9 = 81\n",
      "2 x 1 x 1 = 2\n",
      "2 x 1 x 2 = 4\n",
      "2 x 1 x 3 = 6\n",
      "2 x 1 x 4 = 8\n",
      "2 x 1 x 5 = 10\n",
      "2 x 1 x 6 = 12\n",
      "2 x 1 x 7 = 14\n",
      "2 x 1 x 8 = 16\n",
      "2 x 1 x 9 = 18\n",
      "2 x 2 x 1 = 4\n",
      "2 x 2 x 2 = 8\n",
      "2 x 2 x 3 = 12\n",
      "2 x 2 x 4 = 16\n",
      "2 x 2 x 5 = 20\n",
      "2 x 2 x 6 = 24\n",
      "2 x 2 x 7 = 28\n",
      "2 x 2 x 8 = 32\n",
      "2 x 2 x 9 = 36\n",
      "2 x 3 x 1 = 6\n",
      "2 x 3 x 2 = 12\n",
      "2 x 3 x 3 = 18\n",
      "2 x 3 x 4 = 24\n",
      "2 x 3 x 5 = 30\n",
      "2 x 3 x 6 = 36\n",
      "2 x 3 x 7 = 42\n",
      "2 x 3 x 8 = 48\n",
      "2 x 3 x 9 = 54\n",
      "2 x 4 x 1 = 8\n",
      "2 x 4 x 2 = 16\n",
      "2 x 4 x 3 = 24\n",
      "2 x 4 x 4 = 32\n",
      "2 x 4 x 5 = 40\n",
      "2 x 4 x 6 = 48\n",
      "2 x 4 x 7 = 56\n",
      "2 x 4 x 8 = 64\n",
      "2 x 4 x 9 = 72\n",
      "2 x 5 x 1 = 10\n",
      "2 x 5 x 2 = 20\n",
      "2 x 5 x 3 = 30\n",
      "2 x 5 x 4 = 40\n",
      "2 x 5 x 5 = 50\n",
      "2 x 5 x 6 = 60\n",
      "2 x 5 x 7 = 70\n",
      "2 x 5 x 8 = 80\n",
      "2 x 5 x 9 = 90\n",
      "2 x 6 x 1 = 12\n",
      "2 x 6 x 2 = 24\n",
      "2 x 6 x 3 = 36\n",
      "2 x 6 x 4 = 48\n",
      "2 x 6 x 5 = 60\n",
      "2 x 6 x 6 = 72\n",
      "2 x 6 x 7 = 84\n",
      "2 x 6 x 8 = 96\n",
      "2 x 6 x 9 = 108\n",
      "2 x 7 x 1 = 14\n",
      "2 x 7 x 2 = 28\n",
      "2 x 7 x 3 = 42\n",
      "2 x 7 x 4 = 56\n",
      "2 x 7 x 5 = 70\n",
      "2 x 7 x 6 = 84\n",
      "2 x 7 x 7 = 98\n",
      "2 x 7 x 8 = 112\n",
      "2 x 7 x 9 = 126\n",
      "2 x 8 x 1 = 16\n",
      "2 x 8 x 2 = 32\n",
      "2 x 8 x 3 = 48\n",
      "2 x 8 x 4 = 64\n",
      "2 x 8 x 5 = 80\n",
      "2 x 8 x 6 = 96\n",
      "2 x 8 x 7 = 112\n",
      "2 x 8 x 8 = 128\n",
      "2 x 8 x 9 = 144\n",
      "2 x 9 x 1 = 18\n",
      "2 x 9 x 2 = 36\n",
      "2 x 9 x 3 = 54\n",
      "2 x 9 x 4 = 72\n",
      "2 x 9 x 5 = 90\n",
      "2 x 9 x 6 = 108\n",
      "2 x 9 x 7 = 126\n",
      "2 x 9 x 8 = 144\n",
      "2 x 9 x 9 = 162\n",
      "3 x 1 x 1 = 3\n",
      "3 x 1 x 2 = 6\n",
      "3 x 1 x 3 = 9\n",
      "3 x 1 x 4 = 12\n",
      "3 x 1 x 5 = 15\n",
      "3 x 1 x 6 = 18\n",
      "3 x 1 x 7 = 21\n",
      "3 x 1 x 8 = 24\n",
      "3 x 1 x 9 = 27\n",
      "3 x 2 x 1 = 6\n",
      "3 x 2 x 2 = 12\n",
      "3 x 2 x 3 = 18\n",
      "3 x 2 x 4 = 24\n",
      "3 x 2 x 5 = 30\n",
      "3 x 2 x 6 = 36\n",
      "3 x 2 x 7 = 42\n",
      "3 x 2 x 8 = 48\n",
      "3 x 2 x 9 = 54\n",
      "3 x 3 x 1 = 9\n",
      "3 x 3 x 2 = 18\n",
      "3 x 3 x 3 = 27\n",
      "3 x 3 x 4 = 36\n",
      "3 x 3 x 5 = 45\n",
      "3 x 3 x 6 = 54\n",
      "3 x 3 x 7 = 63\n",
      "3 x 3 x 8 = 72\n",
      "3 x 3 x 9 = 81\n",
      "3 x 4 x 1 = 12\n",
      "3 x 4 x 2 = 24\n",
      "3 x 4 x 3 = 36\n",
      "3 x 4 x 4 = 48\n",
      "3 x 4 x 5 = 60\n",
      "3 x 4 x 6 = 72\n",
      "3 x 4 x 7 = 84\n",
      "3 x 4 x 8 = 96\n",
      "3 x 4 x 9 = 108\n",
      "3 x 5 x 1 = 15\n",
      "3 x 5 x 2 = 30\n",
      "3 x 5 x 3 = 45\n",
      "3 x 5 x 4 = 60\n",
      "3 x 5 x 5 = 75\n",
      "3 x 5 x 6 = 90\n",
      "3 x 5 x 7 = 105\n",
      "3 x 5 x 8 = 120\n",
      "3 x 5 x 9 = 135\n",
      "3 x 6 x 1 = 18\n",
      "3 x 6 x 2 = 36\n",
      "3 x 6 x 3 = 54\n",
      "3 x 6 x 4 = 72\n",
      "3 x 6 x 5 = 90\n",
      "3 x 6 x 6 = 108\n",
      "3 x 6 x 7 = 126\n",
      "3 x 6 x 8 = 144\n",
      "3 x 6 x 9 = 162\n",
      "3 x 7 x 1 = 21\n",
      "3 x 7 x 2 = 42\n",
      "3 x 7 x 3 = 63\n",
      "3 x 7 x 4 = 84\n",
      "3 x 7 x 5 = 105\n",
      "3 x 7 x 6 = 126\n",
      "3 x 7 x 7 = 147\n",
      "3 x 7 x 8 = 168\n",
      "3 x 7 x 9 = 189\n",
      "3 x 8 x 1 = 24\n",
      "3 x 8 x 2 = 48\n",
      "3 x 8 x 3 = 72\n",
      "3 x 8 x 4 = 96\n",
      "3 x 8 x 5 = 120\n",
      "3 x 8 x 6 = 144\n",
      "3 x 8 x 7 = 168\n",
      "3 x 8 x 8 = 192\n",
      "3 x 8 x 9 = 216\n",
      "3 x 9 x 1 = 27\n",
      "3 x 9 x 2 = 54\n",
      "3 x 9 x 3 = 81\n",
      "3 x 9 x 4 = 108\n",
      "3 x 9 x 5 = 135\n",
      "3 x 9 x 6 = 162\n",
      "3 x 9 x 7 = 189\n",
      "3 x 9 x 8 = 216\n",
      "3 x 9 x 9 = 243\n",
      "4 x 1 x 1 = 4\n",
      "4 x 1 x 2 = 8\n",
      "4 x 1 x 3 = 12\n",
      "4 x 1 x 4 = 16\n",
      "4 x 1 x 5 = 20\n",
      "4 x 1 x 6 = 24\n",
      "4 x 1 x 7 = 28\n",
      "4 x 1 x 8 = 32\n",
      "4 x 1 x 9 = 36\n",
      "4 x 2 x 1 = 8\n",
      "4 x 2 x 2 = 16\n",
      "4 x 2 x 3 = 24\n",
      "4 x 2 x 4 = 32\n",
      "4 x 2 x 5 = 40\n",
      "4 x 2 x 6 = 48\n",
      "4 x 2 x 7 = 56\n",
      "4 x 2 x 8 = 64\n",
      "4 x 2 x 9 = 72\n",
      "4 x 3 x 1 = 12\n",
      "4 x 3 x 2 = 24\n",
      "4 x 3 x 3 = 36\n",
      "4 x 3 x 4 = 48\n",
      "4 x 3 x 5 = 60\n",
      "4 x 3 x 6 = 72\n",
      "4 x 3 x 7 = 84\n",
      "4 x 3 x 8 = 96\n",
      "4 x 3 x 9 = 108\n",
      "4 x 4 x 1 = 16\n",
      "4 x 4 x 2 = 32\n",
      "4 x 4 x 3 = 48\n",
      "4 x 4 x 4 = 64\n",
      "4 x 4 x 5 = 80\n",
      "4 x 4 x 6 = 96\n",
      "4 x 4 x 7 = 112\n",
      "4 x 4 x 8 = 128\n",
      "4 x 4 x 9 = 144\n",
      "4 x 5 x 1 = 20\n",
      "4 x 5 x 2 = 40\n",
      "4 x 5 x 3 = 60\n",
      "4 x 5 x 4 = 80\n",
      "4 x 5 x 5 = 100\n",
      "4 x 5 x 6 = 120\n",
      "4 x 5 x 7 = 140\n",
      "4 x 5 x 8 = 160\n",
      "4 x 5 x 9 = 180\n",
      "4 x 6 x 1 = 24\n",
      "4 x 6 x 2 = 48\n",
      "4 x 6 x 3 = 72\n",
      "4 x 6 x 4 = 96\n",
      "4 x 6 x 5 = 120\n",
      "4 x 6 x 6 = 144\n",
      "4 x 6 x 7 = 168\n",
      "4 x 6 x 8 = 192\n",
      "4 x 6 x 9 = 216\n",
      "4 x 7 x 1 = 28\n",
      "4 x 7 x 2 = 56\n",
      "4 x 7 x 3 = 84\n",
      "4 x 7 x 4 = 112\n",
      "4 x 7 x 5 = 140\n",
      "4 x 7 x 6 = 168\n",
      "4 x 7 x 7 = 196\n",
      "4 x 7 x 8 = 224\n",
      "4 x 7 x 9 = 252\n",
      "4 x 8 x 1 = 32\n",
      "4 x 8 x 2 = 64\n",
      "4 x 8 x 3 = 96\n",
      "4 x 8 x 4 = 128\n",
      "4 x 8 x 5 = 160\n",
      "4 x 8 x 6 = 192\n",
      "4 x 8 x 7 = 224\n",
      "4 x 8 x 8 = 256\n",
      "4 x 8 x 9 = 288\n",
      "4 x 9 x 1 = 36\n",
      "4 x 9 x 2 = 72\n",
      "4 x 9 x 3 = 108\n",
      "4 x 9 x 4 = 144\n",
      "4 x 9 x 5 = 180\n",
      "4 x 9 x 6 = 216\n",
      "4 x 9 x 7 = 252\n",
      "4 x 9 x 8 = 288\n",
      "4 x 9 x 9 = 324\n",
      "5 x 1 x 1 = 5\n",
      "5 x 1 x 2 = 10\n",
      "5 x 1 x 3 = 15\n",
      "5 x 1 x 4 = 20\n",
      "5 x 1 x 5 = 25\n",
      "5 x 1 x 6 = 30\n",
      "5 x 1 x 7 = 35\n",
      "5 x 1 x 8 = 40\n",
      "5 x 1 x 9 = 45\n",
      "5 x 2 x 1 = 10\n",
      "5 x 2 x 2 = 20\n",
      "5 x 2 x 3 = 30\n",
      "5 x 2 x 4 = 40\n",
      "5 x 2 x 5 = 50\n",
      "5 x 2 x 6 = 60\n",
      "5 x 2 x 7 = 70\n",
      "5 x 2 x 8 = 80\n",
      "5 x 2 x 9 = 90\n",
      "5 x 3 x 1 = 15\n",
      "5 x 3 x 2 = 30\n",
      "5 x 3 x 3 = 45\n",
      "5 x 3 x 4 = 60\n",
      "5 x 3 x 5 = 75\n",
      "5 x 3 x 6 = 90\n",
      "5 x 3 x 7 = 105\n",
      "5 x 3 x 8 = 120\n",
      "5 x 3 x 9 = 135\n",
      "5 x 4 x 1 = 20\n",
      "5 x 4 x 2 = 40\n",
      "5 x 4 x 3 = 60\n",
      "5 x 4 x 4 = 80\n",
      "5 x 4 x 5 = 100\n",
      "5 x 4 x 6 = 120\n",
      "5 x 4 x 7 = 140\n",
      "5 x 4 x 8 = 160\n",
      "5 x 4 x 9 = 180\n",
      "5 x 5 x 1 = 25\n",
      "5 x 5 x 2 = 50\n",
      "5 x 5 x 3 = 75\n",
      "5 x 5 x 4 = 100\n",
      "5 x 5 x 5 = 125\n",
      "5 x 5 x 6 = 150\n",
      "5 x 5 x 7 = 175\n",
      "5 x 5 x 8 = 200\n",
      "5 x 5 x 9 = 225\n",
      "5 x 6 x 1 = 30\n",
      "5 x 6 x 2 = 60\n",
      "5 x 6 x 3 = 90\n",
      "5 x 6 x 4 = 120\n",
      "5 x 6 x 5 = 150\n",
      "5 x 6 x 6 = 180\n",
      "5 x 6 x 7 = 210\n",
      "5 x 6 x 8 = 240\n",
      "5 x 6 x 9 = 270\n",
      "5 x 7 x 1 = 35\n",
      "5 x 7 x 2 = 70\n",
      "5 x 7 x 3 = 105\n",
      "5 x 7 x 4 = 140\n",
      "5 x 7 x 5 = 175\n",
      "5 x 7 x 6 = 210\n",
      "5 x 7 x 7 = 245\n",
      "5 x 7 x 8 = 280\n",
      "5 x 7 x 9 = 315\n",
      "5 x 8 x 1 = 40\n",
      "5 x 8 x 2 = 80\n",
      "5 x 8 x 3 = 120\n",
      "5 x 8 x 4 = 160\n",
      "5 x 8 x 5 = 200\n",
      "5 x 8 x 6 = 240\n",
      "5 x 8 x 7 = 280\n",
      "5 x 8 x 8 = 320\n",
      "5 x 8 x 9 = 360\n",
      "5 x 9 x 1 = 45\n",
      "5 x 9 x 2 = 90\n",
      "5 x 9 x 3 = 135\n",
      "5 x 9 x 4 = 180\n",
      "5 x 9 x 5 = 225\n",
      "5 x 9 x 6 = 270\n",
      "5 x 9 x 7 = 315\n",
      "5 x 9 x 8 = 360\n",
      "5 x 9 x 9 = 405\n",
      "6 x 1 x 1 = 6\n",
      "6 x 1 x 2 = 12\n",
      "6 x 1 x 3 = 18\n",
      "6 x 1 x 4 = 24\n",
      "6 x 1 x 5 = 30\n",
      "6 x 1 x 6 = 36\n",
      "6 x 1 x 7 = 42\n",
      "6 x 1 x 8 = 48\n",
      "6 x 1 x 9 = 54\n",
      "6 x 2 x 1 = 12\n",
      "6 x 2 x 2 = 24\n",
      "6 x 2 x 3 = 36\n",
      "6 x 2 x 4 = 48\n",
      "6 x 2 x 5 = 60\n",
      "6 x 2 x 6 = 72\n",
      "6 x 2 x 7 = 84\n",
      "6 x 2 x 8 = 96\n",
      "6 x 2 x 9 = 108\n",
      "6 x 3 x 1 = 18\n",
      "6 x 3 x 2 = 36\n",
      "6 x 3 x 3 = 54\n",
      "6 x 3 x 4 = 72\n",
      "6 x 3 x 5 = 90\n",
      "6 x 3 x 6 = 108\n",
      "6 x 3 x 7 = 126\n",
      "6 x 3 x 8 = 144\n",
      "6 x 3 x 9 = 162\n",
      "6 x 4 x 1 = 24\n",
      "6 x 4 x 2 = 48\n",
      "6 x 4 x 3 = 72\n",
      "6 x 4 x 4 = 96\n",
      "6 x 4 x 5 = 120\n",
      "6 x 4 x 6 = 144\n",
      "6 x 4 x 7 = 168\n",
      "6 x 4 x 8 = 192\n",
      "6 x 4 x 9 = 216\n",
      "6 x 5 x 1 = 30\n",
      "6 x 5 x 2 = 60\n",
      "6 x 5 x 3 = 90\n",
      "6 x 5 x 4 = 120\n",
      "6 x 5 x 5 = 150\n",
      "6 x 5 x 6 = 180\n",
      "6 x 5 x 7 = 210\n",
      "6 x 5 x 8 = 240\n",
      "6 x 5 x 9 = 270\n",
      "6 x 6 x 1 = 36\n",
      "6 x 6 x 2 = 72\n",
      "6 x 6 x 3 = 108\n",
      "6 x 6 x 4 = 144\n",
      "6 x 6 x 5 = 180\n",
      "6 x 6 x 6 = 216\n",
      "6 x 6 x 7 = 252\n",
      "6 x 6 x 8 = 288\n",
      "6 x 6 x 9 = 324\n",
      "6 x 7 x 1 = 42\n",
      "6 x 7 x 2 = 84\n",
      "6 x 7 x 3 = 126\n",
      "6 x 7 x 4 = 168\n",
      "6 x 7 x 5 = 210\n",
      "6 x 7 x 6 = 252\n",
      "6 x 7 x 7 = 294\n",
      "6 x 7 x 8 = 336\n",
      "6 x 7 x 9 = 378\n",
      "6 x 8 x 1 = 48\n",
      "6 x 8 x 2 = 96\n",
      "6 x 8 x 3 = 144\n",
      "6 x 8 x 4 = 192\n",
      "6 x 8 x 5 = 240\n",
      "6 x 8 x 6 = 288\n",
      "6 x 8 x 7 = 336\n",
      "6 x 8 x 8 = 384\n",
      "6 x 8 x 9 = 432\n",
      "6 x 9 x 1 = 54\n",
      "6 x 9 x 2 = 108\n",
      "6 x 9 x 3 = 162\n",
      "6 x 9 x 4 = 216\n",
      "6 x 9 x 5 = 270\n",
      "6 x 9 x 6 = 324\n",
      "6 x 9 x 7 = 378\n",
      "6 x 9 x 8 = 432\n",
      "6 x 9 x 9 = 486\n",
      "7 x 1 x 1 = 7\n",
      "7 x 1 x 2 = 14\n",
      "7 x 1 x 3 = 21\n",
      "7 x 1 x 4 = 28\n",
      "7 x 1 x 5 = 35\n",
      "7 x 1 x 6 = 42\n",
      "7 x 1 x 7 = 49\n",
      "7 x 1 x 8 = 56\n",
      "7 x 1 x 9 = 63\n",
      "7 x 2 x 1 = 14\n",
      "7 x 2 x 2 = 28\n",
      "7 x 2 x 3 = 42\n",
      "7 x 2 x 4 = 56\n",
      "7 x 2 x 5 = 70\n",
      "7 x 2 x 6 = 84\n",
      "7 x 2 x 7 = 98\n",
      "7 x 2 x 8 = 112\n",
      "7 x 2 x 9 = 126\n",
      "7 x 3 x 1 = 21\n",
      "7 x 3 x 2 = 42\n",
      "7 x 3 x 3 = 63\n",
      "7 x 3 x 4 = 84\n",
      "7 x 3 x 5 = 105\n",
      "7 x 3 x 6 = 126\n",
      "7 x 3 x 7 = 147\n",
      "7 x 3 x 8 = 168\n",
      "7 x 3 x 9 = 189\n",
      "7 x 4 x 1 = 28\n",
      "7 x 4 x 2 = 56\n",
      "7 x 4 x 3 = 84\n",
      "7 x 4 x 4 = 112\n",
      "7 x 4 x 5 = 140\n",
      "7 x 4 x 6 = 168\n",
      "7 x 4 x 7 = 196\n",
      "7 x 4 x 8 = 224\n",
      "7 x 4 x 9 = 252\n",
      "7 x 5 x 1 = 35\n",
      "7 x 5 x 2 = 70\n",
      "7 x 5 x 3 = 105\n",
      "7 x 5 x 4 = 140\n",
      "7 x 5 x 5 = 175\n",
      "7 x 5 x 6 = 210\n",
      "7 x 5 x 7 = 245\n",
      "7 x 5 x 8 = 280\n",
      "7 x 5 x 9 = 315\n",
      "7 x 6 x 1 = 42\n",
      "7 x 6 x 2 = 84\n",
      "7 x 6 x 3 = 126\n",
      "7 x 6 x 4 = 168\n",
      "7 x 6 x 5 = 210\n",
      "7 x 6 x 6 = 252\n",
      "7 x 6 x 7 = 294\n",
      "7 x 6 x 8 = 336\n",
      "7 x 6 x 9 = 378\n",
      "7 x 7 x 1 = 49\n",
      "7 x 7 x 2 = 98\n",
      "7 x 7 x 3 = 147\n",
      "7 x 7 x 4 = 196\n",
      "7 x 7 x 5 = 245\n",
      "7 x 7 x 6 = 294\n",
      "7 x 7 x 7 = 343\n",
      "7 x 7 x 8 = 392\n",
      "7 x 7 x 9 = 441\n",
      "7 x 8 x 1 = 56\n",
      "7 x 8 x 2 = 112\n",
      "7 x 8 x 3 = 168\n",
      "7 x 8 x 4 = 224\n",
      "7 x 8 x 5 = 280\n",
      "7 x 8 x 6 = 336\n",
      "7 x 8 x 7 = 392\n",
      "7 x 8 x 8 = 448\n",
      "7 x 8 x 9 = 504\n",
      "7 x 9 x 1 = 63\n",
      "7 x 9 x 2 = 126\n",
      "7 x 9 x 3 = 189\n",
      "7 x 9 x 4 = 252\n",
      "7 x 9 x 5 = 315\n",
      "7 x 9 x 6 = 378\n",
      "7 x 9 x 7 = 441\n",
      "7 x 9 x 8 = 504\n",
      "7 x 9 x 9 = 567\n",
      "8 x 1 x 1 = 8\n",
      "8 x 1 x 2 = 16\n",
      "8 x 1 x 3 = 24\n",
      "8 x 1 x 4 = 32\n",
      "8 x 1 x 5 = 40\n",
      "8 x 1 x 6 = 48\n",
      "8 x 1 x 7 = 56\n",
      "8 x 1 x 8 = 64\n",
      "8 x 1 x 9 = 72\n",
      "8 x 2 x 1 = 16\n",
      "8 x 2 x 2 = 32\n",
      "8 x 2 x 3 = 48\n",
      "8 x 2 x 4 = 64\n",
      "8 x 2 x 5 = 80\n",
      "8 x 2 x 6 = 96\n",
      "8 x 2 x 7 = 112\n",
      "8 x 2 x 8 = 128\n",
      "8 x 2 x 9 = 144\n",
      "8 x 3 x 1 = 24\n",
      "8 x 3 x 2 = 48\n",
      "8 x 3 x 3 = 72\n",
      "8 x 3 x 4 = 96\n",
      "8 x 3 x 5 = 120\n",
      "8 x 3 x 6 = 144\n"
     ]
    },
    {
     "name": "stdout",
     "output_type": "stream",
     "text": [
      "8 x 3 x 7 = 168\n",
      "8 x 3 x 8 = 192\n",
      "8 x 3 x 9 = 216\n",
      "8 x 4 x 1 = 32\n",
      "8 x 4 x 2 = 64\n",
      "8 x 4 x 3 = 96\n",
      "8 x 4 x 4 = 128\n",
      "8 x 4 x 5 = 160\n",
      "8 x 4 x 6 = 192\n",
      "8 x 4 x 7 = 224\n",
      "8 x 4 x 8 = 256\n",
      "8 x 4 x 9 = 288\n",
      "8 x 5 x 1 = 40\n",
      "8 x 5 x 2 = 80\n",
      "8 x 5 x 3 = 120\n",
      "8 x 5 x 4 = 160\n",
      "8 x 5 x 5 = 200\n",
      "8 x 5 x 6 = 240\n",
      "8 x 5 x 7 = 280\n",
      "8 x 5 x 8 = 320\n",
      "8 x 5 x 9 = 360\n",
      "8 x 6 x 1 = 48\n",
      "8 x 6 x 2 = 96\n",
      "8 x 6 x 3 = 144\n",
      "8 x 6 x 4 = 192\n",
      "8 x 6 x 5 = 240\n",
      "8 x 6 x 6 = 288\n",
      "8 x 6 x 7 = 336\n",
      "8 x 6 x 8 = 384\n",
      "8 x 6 x 9 = 432\n",
      "8 x 7 x 1 = 56\n",
      "8 x 7 x 2 = 112\n",
      "8 x 7 x 3 = 168\n",
      "8 x 7 x 4 = 224\n",
      "8 x 7 x 5 = 280\n",
      "8 x 7 x 6 = 336\n",
      "8 x 7 x 7 = 392\n",
      "8 x 7 x 8 = 448\n",
      "8 x 7 x 9 = 504\n",
      "8 x 8 x 1 = 64\n",
      "8 x 8 x 2 = 128\n",
      "8 x 8 x 3 = 192\n",
      "8 x 8 x 4 = 256\n",
      "8 x 8 x 5 = 320\n",
      "8 x 8 x 6 = 384\n",
      "8 x 8 x 7 = 448\n",
      "8 x 8 x 8 = 512\n",
      "8 x 8 x 9 = 576\n",
      "8 x 9 x 1 = 72\n",
      "8 x 9 x 2 = 144\n",
      "8 x 9 x 3 = 216\n",
      "8 x 9 x 4 = 288\n",
      "8 x 9 x 5 = 360\n",
      "8 x 9 x 6 = 432\n",
      "8 x 9 x 7 = 504\n",
      "8 x 9 x 8 = 576\n",
      "8 x 9 x 9 = 648\n",
      "9 x 1 x 1 = 9\n",
      "9 x 1 x 2 = 18\n",
      "9 x 1 x 3 = 27\n",
      "9 x 1 x 4 = 36\n",
      "9 x 1 x 5 = 45\n",
      "9 x 1 x 6 = 54\n",
      "9 x 1 x 7 = 63\n",
      "9 x 1 x 8 = 72\n",
      "9 x 1 x 9 = 81\n",
      "9 x 2 x 1 = 18\n",
      "9 x 2 x 2 = 36\n",
      "9 x 2 x 3 = 54\n",
      "9 x 2 x 4 = 72\n",
      "9 x 2 x 5 = 90\n",
      "9 x 2 x 6 = 108\n",
      "9 x 2 x 7 = 126\n",
      "9 x 2 x 8 = 144\n",
      "9 x 2 x 9 = 162\n",
      "9 x 3 x 1 = 27\n",
      "9 x 3 x 2 = 54\n",
      "9 x 3 x 3 = 81\n",
      "9 x 3 x 4 = 108\n",
      "9 x 3 x 5 = 135\n",
      "9 x 3 x 6 = 162\n",
      "9 x 3 x 7 = 189\n",
      "9 x 3 x 8 = 216\n",
      "9 x 3 x 9 = 243\n",
      "9 x 4 x 1 = 36\n",
      "9 x 4 x 2 = 72\n",
      "9 x 4 x 3 = 108\n",
      "9 x 4 x 4 = 144\n",
      "9 x 4 x 5 = 180\n",
      "9 x 4 x 6 = 216\n",
      "9 x 4 x 7 = 252\n",
      "9 x 4 x 8 = 288\n",
      "9 x 4 x 9 = 324\n",
      "9 x 5 x 1 = 45\n",
      "9 x 5 x 2 = 90\n",
      "9 x 5 x 3 = 135\n",
      "9 x 5 x 4 = 180\n",
      "9 x 5 x 5 = 225\n",
      "9 x 5 x 6 = 270\n",
      "9 x 5 x 7 = 315\n",
      "9 x 5 x 8 = 360\n",
      "9 x 5 x 9 = 405\n",
      "9 x 6 x 1 = 54\n",
      "9 x 6 x 2 = 108\n",
      "9 x 6 x 3 = 162\n",
      "9 x 6 x 4 = 216\n",
      "9 x 6 x 5 = 270\n",
      "9 x 6 x 6 = 324\n",
      "9 x 6 x 7 = 378\n",
      "9 x 6 x 8 = 432\n",
      "9 x 6 x 9 = 486\n",
      "9 x 7 x 1 = 63\n",
      "9 x 7 x 2 = 126\n",
      "9 x 7 x 3 = 189\n",
      "9 x 7 x 4 = 252\n",
      "9 x 7 x 5 = 315\n",
      "9 x 7 x 6 = 378\n",
      "9 x 7 x 7 = 441\n",
      "9 x 7 x 8 = 504\n",
      "9 x 7 x 9 = 567\n",
      "9 x 8 x 1 = 72\n",
      "9 x 8 x 2 = 144\n",
      "9 x 8 x 3 = 216\n",
      "9 x 8 x 4 = 288\n",
      "9 x 8 x 5 = 360\n",
      "9 x 8 x 6 = 432\n",
      "9 x 8 x 7 = 504\n",
      "9 x 8 x 8 = 576\n",
      "9 x 8 x 9 = 648\n",
      "9 x 9 x 1 = 81\n",
      "9 x 9 x 2 = 162\n",
      "9 x 9 x 3 = 243\n",
      "9 x 9 x 4 = 324\n",
      "9 x 9 x 5 = 405\n",
      "9 x 9 x 6 = 486\n",
      "9 x 9 x 7 = 567\n",
      "9 x 9 x 8 = 648\n",
      "9 x 9 x 9 = 729\n"
     ]
    }
   ],
   "source": [
    "for i in range(1, 10):\n",
    "    for j in range(1, 10):\n",
    "        for k in range(1, 10):\n",
    "            print(i, 'x', j, 'x', k, '=', i*j*k)"
   ]
  },
  {
   "cell_type": "code",
   "execution_count": 8,
   "metadata": {},
   "outputs": [
    {
     "name": "stdout",
     "output_type": "stream",
     "text": [
      "점수를 입력하세요 : 90\n",
      "C\n"
     ]
    }
   ],
   "source": [
    "# 출력 : 학점 (영문 형태의 등급)\n",
    "# 입력 : 0이상 100이하의 시험 점수\n",
    "\n",
    "# 약속 (함수 정의)\n",
    "\n",
    "def get_score():\n",
    "    score = int(input('점수를 입력하세요 : '))\n",
    "    return score\n",
    "\n",
    "def grading(score):\n",
    "    if score >= 98:\n",
    "        return 'A'\n",
    "    elif score >= 95:\n",
    "        return 'B'\n",
    "    elif score >= 90:\n",
    "        return 'C'\n",
    "    else:\n",
    "        return 'F'\n",
    "\n",
    "# 명령(함수호출)\n",
    "score = get_score()           # 프로그램 전체의 input\n",
    "grade = grading(score)        # 프로그램 전체의 process\n",
    "print(grade)                  # 프로그램 전체의 output\n"
   ]
  },
  {
   "cell_type": "code",
   "execution_count": 9,
   "metadata": {},
   "outputs": [
    {
     "name": "stdout",
     "output_type": "stream",
     "text": [
      "가로 길이 : 10\n",
      "세로 길이 : 9\n",
      "넓이는 90입니다.\n"
     ]
    }
   ],
   "source": [
    "\n",
    "def rectangle(x, y):\n",
    "    return x*y\n",
    "\n",
    "a = int(input('가로 길이 : '))\n",
    "b = int(input('세로 길이 : '))\n",
    "s = str(rectangle(a, b))       #아래 print에서 바로 s로 출력했으니 여기서 미리 str로 감싸 준 것\n",
    "print('넓이는', s+'입니다.')\n"
   ]
  },
  {
   "cell_type": "code",
   "execution_count": 11,
   "metadata": {},
   "outputs": [
    {
     "name": "stdout",
     "output_type": "stream",
     "text": [
      "밑변 : 5\n",
      "높이 : 10\n",
      "넓이는 25.0입니다.\n"
     ]
    }
   ],
   "source": [
    "# 출력 : 삼각형 넓이\n",
    "# 입력 : 삼각형의 밑변과 높이\n",
    "\n",
    "def triangle(b, h):\n",
    "    return 0.5*b*h\n",
    "\n",
    "x = int(input('밑변 : '))\n",
    "y = int(input('높이 : '))\n",
    "s = triangle(x, y)          #위와 비교했을 때, 여기서는 print 때 str(s)로 했으니까 굳이..\n",
    "print('넓이는', str(s)+'입니다.')"
   ]
  },
  {
   "cell_type": "code",
   "execution_count": 12,
   "metadata": {},
   "outputs": [
    {
     "name": "stdout",
     "output_type": "stream",
     "text": [
      "10\n"
     ]
    }
   ],
   "source": [
    "def func1(a):\n",
    "    a = 999\n",
    "    \n",
    "a = 10\n",
    "func1(a)\n",
    "print(a)\n"
   ]
  },
  {
   "cell_type": "code",
   "execution_count": 13,
   "metadata": {},
   "outputs": [
    {
     "name": "stdout",
     "output_type": "stream",
     "text": [
      "999\n"
     ]
    }
   ],
   "source": [
    "def func2(b):\n",
    "    b[0] = 999\n",
    "\n",
    "b = [10]\n",
    "func2(b)\n",
    "print(b[0])\n"
   ]
  },
  {
   "cell_type": "code",
   "execution_count": 15,
   "metadata": {},
   "outputs": [
    {
     "name": "stdout",
     "output_type": "stream",
     "text": [
      "가로 길이 : 10\n",
      "/ : 5\n",
      "50\n"
     ]
    }
   ],
   "source": [
    "# 출력 : 직사각형 넓이\n",
    "# 입력 : 직사각형 가로 세로\n",
    "\n",
    "def rectangle(x, y):\n",
    "    print(x*y)\n",
    "    \n",
    "a = int(input('가로 길이 : '))\n",
    "b = int(input('/ : '))\n",
    "rectangle(a, b)\n"
   ]
  },
  {
   "cell_type": "code",
   "execution_count": 18,
   "metadata": {},
   "outputs": [
    {
     "name": "stdout",
     "output_type": "stream",
     "text": [
      "현재시각(0 ~ 24)을 입력해주세요 : 24\n",
      "아름다운 서울의 야경, 당신은 하나의 별이다.\n"
     ]
    }
   ],
   "source": [
    "\n",
    "def day():\n",
    "    return '그대의 근로는 태양보다도 밝다.'\n",
    "\n",
    "def night():\n",
    "    return '아름다운 서울의 야경, 당신은 하나의 별이다.'\n",
    "    \n",
    "time = int(input('현재시각(0 ~ 24)을 입력해주세요 : '))\n",
    "if 8 <= time <= 17:\n",
    "    phrase = day()\n",
    "else:\n",
    "    phrase = night()\n",
    "print(phrase)\n",
    "\n",
    "        "
   ]
  },
  {
   "cell_type": "code",
   "execution_count": 20,
   "metadata": {},
   "outputs": [
    {
     "name": "stdout",
     "output_type": "stream",
     "text": [
      "이름을 입력하세요 : 조현천\n",
      "천현조\n"
     ]
    }
   ],
   "source": [
    "def reverse():\n",
    "    name = input('이름을 입력하세요 : ')\n",
    "    print(name[-1]+name[-2]+name[-3])\n",
    "\n",
    "reverse()"
   ]
  },
  {
   "cell_type": "code",
   "execution_count": 1,
   "metadata": {},
   "outputs": [
    {
     "name": "stdout",
     "output_type": "stream",
     "text": [
      "0 갑\n",
      "1 을\n",
      "2 병\n"
     ]
    }
   ],
   "source": [
    "a= ['갑', '을', '병']\n",
    "for (i, 내용) in enumerate(a):             #내용은 어디서 나온거지? 진짜 이해가 안되네 \n",
    "    print(i, 내용)                         #일단 변수의 인덱스와 내용물을 튜플 형태로 반환한거 같긴한데;; '내용'이라고 써도 되나?"
   ]
  },
  {
   "cell_type": "code",
   "execution_count": 2,
   "metadata": {},
   "outputs": [
    {
     "name": "stdout",
     "output_type": "stream",
     "text": [
      "25\n"
     ]
    }
   ],
   "source": [
    "a = 'print(5**2)'    #문자열 자체를 파이썬 코드로 인식하게 해주는 함수.\n",
    "eval(a)              #덕분에 인쇄와 인쇄 내 제곱까지 처리\n"
   ]
  },
  {
   "cell_type": "code",
   "execution_count": 3,
   "metadata": {},
   "outputs": [
    {
     "data": {
      "text/plain": [
       "32"
      ]
     },
     "execution_count": 3,
     "metadata": {},
     "output_type": "execute_result"
    }
   ],
   "source": [
    "pow(2, 5)  #a의 b제곱을 반환한다. a**b와 같다"
   ]
  },
  {
   "cell_type": "code",
   "execution_count": 4,
   "metadata": {},
   "outputs": [
    {
     "data": {
      "text/plain": [
       "'아'"
      ]
     },
     "execution_count": 4,
     "metadata": {},
     "output_type": "execute_result"
    }
   ],
   "source": [
    "ord('아')\n",
    "\n",
    "chr(50500)"
   ]
  },
  {
   "cell_type": "code",
   "execution_count": 6,
   "metadata": {},
   "outputs": [
    {
     "data": {
      "text/plain": [
       "4.123"
      ]
     },
     "execution_count": 6,
     "metadata": {},
     "output_type": "execute_result"
    }
   ],
   "source": [
    "round(4.123456789, 3)\n"
   ]
  },
  {
   "cell_type": "code",
   "execution_count": 8,
   "metadata": {},
   "outputs": [
    {
     "data": {
      "text/plain": [
       "['__add__',\n",
       " '__class__',\n",
       " '__contains__',\n",
       " '__delattr__',\n",
       " '__dir__',\n",
       " '__doc__',\n",
       " '__eq__',\n",
       " '__format__',\n",
       " '__ge__',\n",
       " '__getattribute__',\n",
       " '__getitem__',\n",
       " '__getnewargs__',\n",
       " '__gt__',\n",
       " '__hash__',\n",
       " '__init__',\n",
       " '__init_subclass__',\n",
       " '__iter__',\n",
       " '__le__',\n",
       " '__len__',\n",
       " '__lt__',\n",
       " '__mod__',\n",
       " '__mul__',\n",
       " '__ne__',\n",
       " '__new__',\n",
       " '__reduce__',\n",
       " '__reduce_ex__',\n",
       " '__repr__',\n",
       " '__rmod__',\n",
       " '__rmul__',\n",
       " '__setattr__',\n",
       " '__sizeof__',\n",
       " '__str__',\n",
       " '__subclasshook__',\n",
       " 'capitalize',\n",
       " 'casefold',\n",
       " 'center',\n",
       " 'count',\n",
       " 'encode',\n",
       " 'endswith',\n",
       " 'expandtabs',\n",
       " 'find',\n",
       " 'format',\n",
       " 'format_map',\n",
       " 'index',\n",
       " 'isalnum',\n",
       " 'isalpha',\n",
       " 'isascii',\n",
       " 'isdecimal',\n",
       " 'isdigit',\n",
       " 'isidentifier',\n",
       " 'islower',\n",
       " 'isnumeric',\n",
       " 'isprintable',\n",
       " 'isspace',\n",
       " 'istitle',\n",
       " 'isupper',\n",
       " 'join',\n",
       " 'ljust',\n",
       " 'lower',\n",
       " 'lstrip',\n",
       " 'maketrans',\n",
       " 'partition',\n",
       " 'replace',\n",
       " 'rfind',\n",
       " 'rindex',\n",
       " 'rjust',\n",
       " 'rpartition',\n",
       " 'rsplit',\n",
       " 'rstrip',\n",
       " 'split',\n",
       " 'splitlines',\n",
       " 'startswith',\n",
       " 'strip',\n",
       " 'swapcase',\n",
       " 'title',\n",
       " 'translate',\n",
       " 'upper',\n",
       " 'zfill']"
      ]
     },
     "execution_count": 8,
     "metadata": {},
     "output_type": "execute_result"
    }
   ],
   "source": [
    "# class에 포함된 함수를 mothod라고 생각하면 된다.\n",
    "\n",
    "저자 = '거짓말쟁이'\n",
    "type(저자)\n",
    "\n",
    "dir(저자) # 문자열 class str에 대한 feild와 method"
   ]
  },
  {
   "cell_type": "code",
   "execution_count": null,
   "metadata": {},
   "outputs": [],
   "source": []
  }
 ],
 "metadata": {
  "kernelspec": {
   "display_name": "Python 3",
   "language": "python",
   "name": "python3"
  },
  "language_info": {
   "codemirror_mode": {
    "name": "ipython",
    "version": 3
   },
   "file_extension": ".py",
   "mimetype": "text/x-python",
   "name": "python",
   "nbconvert_exporter": "python",
   "pygments_lexer": "ipython3",
   "version": "3.7.3"
  }
 },
 "nbformat": 4,
 "nbformat_minor": 2
}
